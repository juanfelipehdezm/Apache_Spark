{
 "cells": [
  {
   "cell_type": "code",
   "execution_count": 7,
   "metadata": {},
   "outputs": [],
   "source": [
    "import psycopg2\n",
    "import pandas as pd\n",
    "from sqlalchemy import create_engine\n",
    "from pyspark.sql.session import SparkSession\n",
    "from pyspark.sql.context import SQLContext"
   ]
  },
  {
   "cell_type": "code",
   "execution_count": 5,
   "metadata": {},
   "outputs": [],
   "source": [
    "user = \"postgres\"\n",
    "password = \"Felipe1998\"\n",
    "hostname = \"localhost\"\n",
    "db_name = \"postgres\"\n",
    "\n",
    "engine = create_engine(f\"postgresql+psycopg2://{user}:{password}@{hostname}/{db_name}\")"
   ]
  },
  {
   "cell_type": "code",
   "execution_count": 14,
   "metadata": {
    "vscode": {
     "languageId": "sql"
    }
   },
   "outputs": [
    {
     "data": {
      "text/plain": [
       "<sqlalchemy.engine.cursor.LegacyCursorResult at 0x1c324298820>"
      ]
     },
     "execution_count": 14,
     "metadata": {},
     "output_type": "execute_result"
    }
   ],
   "source": [
    "create_table_query =\"\"\"\n",
    "\n",
    "    DROP TABLE IF EXISTS pyspark_tables.fire_service_calls CASCADE;\n",
    "\n",
    "    CREATE TABLE pyspark_tables.fire_service_calls(\n",
    "        call_number INTEGER,\n",
    "        unit_id TEXT,\n",
    "        incident_number INTEGER NOT NULL,\n",
    "        call_type TEXT,\n",
    "        call_date TIMESTAMP,\n",
    "        watch_date TIMESTAMP,\n",
    "        received_dttm TIMESTAMP,\n",
    "        entry_dttm TIMESTAMP,\n",
    "        dispatch_dttm TIMESTAMP,\n",
    "        response_dttm TIMESTAMP,\n",
    "        on_scene_dttm TIMESTAMP,\n",
    "        transport_dttm TIMESTAMP,\n",
    "        hospital_dttm TIMESTAMP,\n",
    "        call_final_disposition TEXT,\n",
    "        available_dttm TIMESTAMP,\n",
    "        address TEXT,\n",
    "        city TEXT,\n",
    "        zipcode_of_incident INTEGER,\n",
    "        battalion TEXT,\n",
    "        station_area INTEGER,\n",
    "        box INTEGER,\n",
    "        original_priority TEXT,\n",
    "        priority TEXT,\n",
    "        final_priority INTEGER,\n",
    "        als_unit BOOLEAN,\n",
    "        call_type_group TEXT,\n",
    "        number_of_alarms INTEGER,\n",
    "        unit_type TEXT,\n",
    "        unit_sequence_in_call_dispatch INTEGER,\n",
    "        fire_prevention_district TEXT,\n",
    "        supervisor_district TEXT,\n",
    "        neighborhoods_analysis_boundaries TEXT,\n",
    "        rowid TEXT,\n",
    "        case_location TEXT,\n",
    "        data_as_of TIMESTAMP,\n",
    "        data_loaded_at TIMESTAMP,\n",
    "        computed_region_ajp5_b2md INTEGER,\n",
    "\n",
    "        PRIMARY KEY(incident_number)\n",
    "    );\n",
    "\n",
    "\"\"\"\n",
    "\n",
    "engine.execute(create_table_query)"
   ]
  },
  {
   "cell_type": "code",
   "execution_count": 15,
   "metadata": {},
   "outputs": [],
   "source": [
    "#spark session\n",
    "spark = SparkSession.builder.appName(\"fire_calls\").getOrCreate()\n",
    "#sql context\n",
    "sqlcontext = SQLContext(spark)"
   ]
  },
  {
   "cell_type": "code",
   "execution_count": 16,
   "metadata": {},
   "outputs": [],
   "source": [
    "#reading a csv file.\n",
    "sf_fire_calls_df = spark.read.csv(\"../data/fire_department_calls.csv\", header=True, inferSchema=True)"
   ]
  }
 ],
 "metadata": {
  "kernelspec": {
   "display_name": "dataenv",
   "language": "python",
   "name": "python3"
  },
  "language_info": {
   "codemirror_mode": {
    "name": "ipython",
    "version": 3
   },
   "file_extension": ".py",
   "mimetype": "text/x-python",
   "name": "python",
   "nbconvert_exporter": "python",
   "pygments_lexer": "ipython3",
   "version": "3.10.13"
  }
 },
 "nbformat": 4,
 "nbformat_minor": 2
}
