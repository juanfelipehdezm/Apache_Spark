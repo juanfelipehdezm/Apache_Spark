{
 "cells": [
  {
   "cell_type": "code",
   "execution_count": 1,
   "metadata": {},
   "outputs": [],
   "source": [
    "from pyspark.sql.session import SparkSession\n",
    "from pyspark.sql.context import SQLContext"
   ]
  },
  {
   "cell_type": "code",
   "execution_count": 2,
   "metadata": {},
   "outputs": [
    {
     "name": "stderr",
     "output_type": "stream",
     "text": [
      "c:\\Users\\juanf\\anaconda3\\envs\\dataenv\\lib\\site-packages\\pyspark\\sql\\context.py:112: FutureWarning: Deprecated in 3.0.0. Use SparkSession.builder.getOrCreate() instead.\n",
      "  warnings.warn(\n"
     ]
    }
   ],
   "source": [
    "#spark session for connection to a postgreSQL database\n",
    "spark = SparkSession.builder.appName(\"masniputaing_database\")\\\n",
    "                            .config(\"spark.driver.extraClassPath\",\"../helpers/postgresql-42.7.3.jar\")\\\n",
    "                            .config(\"spark.jars.packages\", \"org.postgresql:postgresql:42.6.0\")\\\n",
    "                            .getOrCreate()\n",
    "#sql context\n",
    "sqlcontext = SQLContext(spark)"
   ]
  },
  {
   "cell_type": "code",
   "execution_count": 3,
   "metadata": {},
   "outputs": [],
   "source": [
    "#defining the jdbc connection\n",
    "jdbc_url = \"jdbc:postgresql://localhost:5432/postgres\""
   ]
  },
  {
   "cell_type": "code",
   "execution_count": 4,
   "metadata": {},
   "outputs": [],
   "source": [
    "#reading from SQL\n",
    "sf_fire_calls_df = spark.read.format(\"jdbc\")\\\n",
    "                      .option(\"url\",f\"{jdbc_url}\")\\\n",
    "                      .option(\"driver\", \"org.postgresql.Driver\")\\\n",
    "                      .option(\"user\",\"postgres\")\\\n",
    "                      .option(\"password\",\"Felipe1998\")\\\n",
    "                      .option(\"dbtable\",\"pyspark_tables.fire_service_calls\")\\\n",
    "                      .load()\n",
    "\n",
    "sf_fire_calls_df.createOrReplaceTempView(\"fire_service_calls_view\")"
   ]
  },
  {
   "cell_type": "markdown",
   "metadata": {},
   "source": [
    "How many types of calls were made to the fire department ?"
   ]
  },
  {
   "cell_type": "code",
   "execution_count": 13,
   "metadata": {},
   "outputs": [],
   "source": [
    "type_of_calls_query = \"\"\"\n",
    "    SELECT call_type, count(call_type) as number_of_calls, COUNT(call_type) OVER() AS distinc_type_of_calls_count\n",
    "    FROM fire_service_calls_view\n",
    "    GROUP BY call_type\n",
    "    ORDER BY number_of_calls DESC;\n",
    "\"\"\""
   ]
  },
  {
   "cell_type": "code",
   "execution_count": 14,
   "metadata": {},
   "outputs": [],
   "source": [
    "type_of_calls_df = spark.sql(type_of_calls_query)"
   ]
  },
  {
   "cell_type": "code",
   "execution_count": 15,
   "metadata": {},
   "outputs": [
    {
     "name": "stdout",
     "output_type": "stream",
     "text": [
      "+--------------------+---------------+---------------------------+\n",
      "|           call_type|number_of_calls|distinc_type_of_calls_count|\n",
      "+--------------------+---------------+---------------------------+\n",
      "|    Medical Incident|            600|                         18|\n",
      "|Structure Fire / ...|            147|                         18|\n",
      "|              Alarms|            112|                         18|\n",
      "|   Traffic Collision|             72|                         18|\n",
      "|Citizen Assist / ...|             18|                         18|\n",
      "|               Other|             13|                         18|\n",
      "|        Vehicle Fire|              8|                         18|\n",
      "|Odor (Strange / U...|              7|                         18|\n",
      "|Gas Leak (Natural...|              6|                         18|\n",
      "|        Outside Fire|              4|                         18|\n",
      "|Smoke Investigati...|              4|                         18|\n",
      "|        Water Rescue|              2|                         18|\n",
      "|   Electrical Hazard|              2|                         18|\n",
      "|Elevator / Escala...|              1|                         18|\n",
      "|      Administrative|              1|                         18|\n",
      "|           Explosion|              1|                         18|\n",
      "|Industrial Accidents|              1|                         18|\n",
      "|Train / Rail Inci...|              1|                         18|\n",
      "+--------------------+---------------+---------------------------+\n",
      "\n"
     ]
    }
   ],
   "source": [
    "type_of_calls_df.show()"
   ]
  },
  {
   "cell_type": "markdown",
   "metadata": {},
   "source": [
    "What zip codes accounted for most common calls?"
   ]
  },
  {
   "cell_type": "code",
   "execution_count": 10,
   "metadata": {},
   "outputs": [],
   "source": [
    "zip_call_types_query = \"\"\"\n",
    "\n",
    "    SELECT zipcode_of_incident, call_type, COUNT(*) AS count_\n",
    "    FROM fire_service_calls_view\n",
    "    GROUP BY zipcode_of_incident, call_type\n",
    "    ORDER BY count_ DESC;\n",
    "\n",
    "\"\"\""
   ]
  },
  {
   "cell_type": "code",
   "execution_count": 11,
   "metadata": {},
   "outputs": [],
   "source": [
    "zip_call_types_df = spark.sql(zip_call_types_query)"
   ]
  },
  {
   "cell_type": "code",
   "execution_count": 12,
   "metadata": {},
   "outputs": [
    {
     "name": "stdout",
     "output_type": "stream",
     "text": [
      "+-------------------+----------------+------+\n",
      "|zipcode_of_incident|       call_type|count_|\n",
      "+-------------------+----------------+------+\n",
      "|              94102|Medical Incident|    80|\n",
      "|              94103|Medical Incident|    68|\n",
      "|              94110|Medical Incident|    62|\n",
      "|              94109|Medical Incident|    56|\n",
      "|              94124|Medical Incident|    33|\n",
      "|              94112|Medical Incident|    33|\n",
      "|              94133|Medical Incident|    29|\n",
      "|              94115|Medical Incident|    23|\n",
      "|              94107|Medical Incident|    23|\n",
      "|              94122|Medical Incident|    20|\n",
      "+-------------------+----------------+------+\n",
      "only showing top 10 rows\n",
      "\n"
     ]
    }
   ],
   "source": [
    "zip_call_types_df.show(10)"
   ]
  },
  {
   "cell_type": "markdown",
   "metadata": {},
   "source": [
    "What San Francisco neighborhoods are in zip codes 94102 and 94103?"
   ]
  },
  {
   "cell_type": "code",
   "execution_count": 24,
   "metadata": {},
   "outputs": [],
   "source": [
    "neighborhoods_on_zip_code = \"\"\"\n",
    "\n",
    "    SELECT zipcode_of_incident, neighborhoods_analysis_boundaries\n",
    "    FROM fire_service_calls_view\n",
    "    WHERE zipcode_of_incident IN (94102, 94103)\n",
    "    ORDER BY zipcode_of_incident;\n",
    "\n",
    "\"\"\""
   ]
  },
  {
   "cell_type": "code",
   "execution_count": 25,
   "metadata": {},
   "outputs": [],
   "source": [
    "neighborhoods_on_zip_code_df = spark.sql(neighborhoods_on_zip_code)"
   ]
  },
  {
   "cell_type": "code",
   "execution_count": 26,
   "metadata": {},
   "outputs": [
    {
     "name": "stdout",
     "output_type": "stream",
     "text": [
      "+-------------------+---------------------------------+\n",
      "|zipcode_of_incident|neighborhoods_analysis_boundaries|\n",
      "+-------------------+---------------------------------+\n",
      "|              94102|                     Hayes Valley|\n",
      "|              94102|                       Tenderloin|\n",
      "|              94102|                       Tenderloin|\n",
      "|              94102|                       Tenderloin|\n",
      "|              94102|                     Hayes Valley|\n",
      "|              94102|                       Tenderloin|\n",
      "|              94102|                       Tenderloin|\n",
      "|              94102|                     Hayes Valley|\n",
      "|              94102|                       Tenderloin|\n",
      "|              94102|                       Tenderloin|\n",
      "+-------------------+---------------------------------+\n",
      "only showing top 10 rows\n",
      "\n"
     ]
    }
   ],
   "source": [
    "neighborhoods_on_zip_code_df.show(10)"
   ]
  },
  {
   "cell_type": "markdown",
   "metadata": {},
   "source": [
    "How many distinct years of data is in the data set?"
   ]
  },
  {
   "cell_type": "code",
   "execution_count": 27,
   "metadata": {},
   "outputs": [],
   "source": [
    "distinct_year = \"\"\" \n",
    "\n",
    "    SELECT DISTINCT EXTRACT(YEAR FROM call_date) AS year_calls\n",
    "    FROM fire_service_calls_view ;\n",
    "\n",
    "\"\"\""
   ]
  },
  {
   "cell_type": "code",
   "execution_count": 28,
   "metadata": {},
   "outputs": [],
   "source": [
    "distinct_year_df = spark.sql(distinct_year)"
   ]
  },
  {
   "cell_type": "code",
   "execution_count": 29,
   "metadata": {},
   "outputs": [
    {
     "name": "stdout",
     "output_type": "stream",
     "text": [
      "+----------+\n",
      "|year_calls|\n",
      "+----------+\n",
      "|      2006|\n",
      "+----------+\n",
      "\n"
     ]
    }
   ],
   "source": [
    "distinct_year_df.show()"
   ]
  }
 ],
 "metadata": {
  "kernelspec": {
   "display_name": "dataenv",
   "language": "python",
   "name": "python3"
  },
  "language_info": {
   "codemirror_mode": {
    "name": "ipython",
    "version": 3
   },
   "file_extension": ".py",
   "mimetype": "text/x-python",
   "name": "python",
   "nbconvert_exporter": "python",
   "pygments_lexer": "ipython3",
   "version": "3.10.13"
  }
 },
 "nbformat": 4,
 "nbformat_minor": 2
}
