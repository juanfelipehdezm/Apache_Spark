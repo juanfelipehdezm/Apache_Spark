{
 "cells": [
  {
   "cell_type": "code",
   "execution_count": 1,
   "metadata": {},
   "outputs": [],
   "source": [
    "from pyspark.sql.session import SparkSession\n",
    "from pyspark.sql.context import SQLContext\n",
    "\n",
    "import warnings\n",
    "warnings.filterwarnings(\"ignore\")"
   ]
  },
  {
   "cell_type": "code",
   "execution_count": 2,
   "metadata": {},
   "outputs": [],
   "source": [
    "spark = SparkSession.builder.appName(\"dataframe_analysis\").getOrCreate()\n",
    "\n",
    "sqlcontext = SQLContext(spark)"
   ]
  },
  {
   "cell_type": "code",
   "execution_count": 3,
   "metadata": {},
   "outputs": [],
   "source": [
    "sf_fire_calls_df = spark.read.csv(\"../data/fire_department_calls.csv\", header = True, inferSchema = True)"
   ]
  },
  {
   "cell_type": "code",
   "execution_count": 4,
   "metadata": {},
   "outputs": [
    {
     "name": "stdout",
     "output_type": "stream",
     "text": [
      "+-----------+-------+---------------+-----------------+-------------------+-------------------+-------------------+-------------------+-------------------+-------------------+-------------------+-------------------+-------------------+----------------------+-------------------+--------------------+----+-------------------+---------+------------+----+-----------------+--------+--------------+--------+---------------+----------------+---------+------------------------------+------------------------+-------------------+---------------------------------+-------------+--------------------+-------------------+-------------------+-------------------------+\n",
      "|call_number|unit_id|incident_number|        call_type|          call_date|         watch_date|      received_dttm|         entry_dttm|      dispatch_dttm|      response_dttm|      on_scene_dttm|     transport_dttm|      hospital_dttm|call_final_disposition|     available_dttm|             address|city|zipcode_of_incident|battalion|station_area| box|original_priority|priority|final_priority|als_unit|call_type_group|number_of_alarms|unit_type|unit_sequence_in_call_dispatch|fire_prevention_district|supervisor_district|neighborhoods_analysis_boundaries|        rowid|       case_location|         data_as_of|     data_loaded_at|computed_region_ajp5_b2md|\n",
      "+-----------+-------+---------------+-----------------+-------------------+-------------------+-------------------+-------------------+-------------------+-------------------+-------------------+-------------------+-------------------+----------------------+-------------------+--------------------+----+-------------------+---------+------------+----+-----------------+--------+--------------+--------+---------------+----------------+---------+------------------------------+------------------------+-------------------+---------------------------------+-------------+--------------------+-------------------+-------------------+-------------------------+\n",
      "|   63240270|    M09|        6091528| Medical Incident|2006-11-20 00:00:00|2006-11-20 00:00:00|2006-11-20 16:07:27|2006-11-20 16:08:24|2006-11-20 16:08:43|2006-11-20 16:10:25|2006-11-20 16:13:40|2006-11-20 16:30:53|2006-11-20 16:41:49|      Code 2 Transport|2006-11-20 17:04:35|WILLS ST/CATALINA...|  SF|              94124|      B10|          25|6556|                3|       3|             3|    true|           null|               1|    MEDIC|                             2|                      10|                 10|             Bayview Hunters P...|063240270-M09|POINT (-122.37942...|2024-02-05 03:27:52|2024-02-05 10:56:25|                        1|\n",
      "|   63270017|    E05|        6092168| Medical Incident|2006-11-23 00:00:00|2006-11-22 00:00:00|2006-11-23 01:50:47|2006-11-23 01:53:04|2006-11-23 01:53:35|2006-11-23 01:55:31|2006-11-23 01:56:19|               null|               null|                 Other|2006-11-23 02:15:10|MCALLISTER ST/FIL...|  SF|              94115|      B05|           5|3534|                3|       3|             3|    true|           null|               1|   ENGINE|                             1|                       5|                  5|                 Western Addition|063270017-E05|POINT (-122.43176...|2024-02-05 03:27:52|2024-02-05 10:56:25|                       39|\n",
      "|   63250105|    E34|        6091702| Medical Incident|2006-11-21 00:00:00|2006-11-21 00:00:00|2006-11-21 09:27:25|2006-11-21 09:28:47|2006-11-21 09:29:32|2006-11-21 09:31:23|2006-11-21 09:32:46|               null|               null|                 Other|2006-11-21 09:42:44|    35TH AVE/ANZA ST|  SF|              94121|      B07|          34|7251|                3|       3|             3|   false|           null|               1|   ENGINE|                             2|                       7|                  1|                   Outer Richmond|063250105-E34|POINT (-122.49531...|2024-02-05 03:27:52|2024-02-05 10:56:25|                       29|\n",
      "|   63190269|     95|        6090144|Traffic Collision|2006-11-15 00:00:00|2006-11-15 00:00:00|2006-11-15 16:10:59|2006-11-15 16:10:59|2006-11-15 16:11:22|2006-11-15 16:12:59|2006-11-15 16:20:52|               null|               null|              No Merit|2006-11-15 16:26:58|FILLMORE ST/HAIGH...|  SF|              94117|      B05|           6|3526|                2|       2|             2|    true|           null|               1|    MEDIC|                             2|                       2|                  5|                     Hayes Valley| 063190269-95|POINT (-122.43043...|2024-02-05 03:27:52|2024-02-05 10:56:25|                        9|\n",
      "|   63210301|    E42|        6090712| Medical Incident|2006-11-17 00:00:00|2006-11-17 00:00:00|2006-11-17 19:47:34|2006-11-17 19:50:40|2006-11-17 19:50:50|2006-11-17 19:51:24|2006-11-17 19:53:35|               null|               null|                 Other|2006-11-17 19:56:22|PERALTA AVE/CORTL...|  SF|              94110|      B10|          42|6374|                3|       3|             3|    true|           null|               1|   ENGINE|                             1|                      10|                  9|                   Bernal Heights|063210301-E42|POINT (-122.40888...|2024-02-05 03:27:52|2024-02-05 10:56:25|                        2|\n",
      "+-----------+-------+---------------+-----------------+-------------------+-------------------+-------------------+-------------------+-------------------+-------------------+-------------------+-------------------+-------------------+----------------------+-------------------+--------------------+----+-------------------+---------+------------+----+-----------------+--------+--------------+--------+---------------+----------------+---------+------------------------------+------------------------+-------------------+---------------------------------+-------------+--------------------+-------------------+-------------------+-------------------------+\n",
      "only showing top 5 rows\n",
      "\n"
     ]
    }
   ],
   "source": [
    "sf_fire_calls_df.show(5)"
   ]
  },
  {
   "cell_type": "code",
   "execution_count": 5,
   "metadata": {},
   "outputs": [
    {
     "data": {
      "text/plain": [
       "DataFrame[call_number: int, unit_id: string, incident_number: int, call_type: string, call_date: timestamp, watch_date: timestamp, received_dttm: timestamp, entry_dttm: timestamp, dispatch_dttm: timestamp, response_dttm: timestamp, on_scene_dttm: timestamp, transport_dttm: timestamp, hospital_dttm: timestamp, call_final_disposition: string, available_dttm: timestamp, address: string, city: string, zipcode_of_incident: int, battalion: string, station_area: int, box: int, original_priority: string, priority: string, final_priority: int, als_unit: boolean, call_type_group: string, number_of_alarms: int, unit_type: string, unit_sequence_in_call_dispatch: int, fire_prevention_district: string, supervisor_district: string, neighborhoods_analysis_boundaries: string, rowid: string, case_location: string, data_as_of: timestamp, data_loaded_at: timestamp, computed_region_ajp5_b2md: int]"
      ]
     },
     "execution_count": 5,
     "metadata": {},
     "output_type": "execute_result"
    }
   ],
   "source": [
    "#Before doing any transformations, we can use the cache() method. \n",
    "#It will cache the dataframe into memory, and as i want to run several analysis transformations on the same dataframe\n",
    "#It makes sense to cache the dataframe in memory and speed up my analysis execution\n",
    "\n",
    "sf_fire_calls_df.cache()"
   ]
  },
  {
   "cell_type": "markdown",
   "metadata": {},
   "source": [
    "Q1. How many distint types of calls were made to the FIRE DEPARTMENT?"
   ]
  },
  {
   "cell_type": "code",
   "execution_count": 6,
   "metadata": {},
   "outputs": [
    {
     "name": "stdout",
     "output_type": "stream",
     "text": [
      "18\n"
     ]
    }
   ],
   "source": [
    "q1_df = sf_fire_calls_df.where(\"call_type is not null\")\\\n",
    "                        .select(\"call_type\")\\\n",
    "                        .distinct()\n",
    "\n",
    "#count() is an action, it is an operation that kick off a Spark job execution. It does not create a newly transform df\n",
    "answer_q1 = q1_df.count()\n",
    "\n",
    "print(answer_q1)"
   ]
  },
  {
   "cell_type": "markdown",
   "metadata": {},
   "source": [
    "Q2. What were distinct types of calls made to the FIRE DEPARTMENT ?"
   ]
  },
  {
   "cell_type": "code",
   "execution_count": 7,
   "metadata": {},
   "outputs": [
    {
     "name": "stdout",
     "output_type": "stream",
     "text": [
      "+--------------------+\n",
      "| disctinct_call_type|\n",
      "+--------------------+\n",
      "|Elevator / Escala...|\n",
      "|Structure Fire / ...|\n",
      "|      Administrative|\n",
      "|              Alarms|\n",
      "|Odor (Strange / U...|\n",
      "|Citizen Assist / ...|\n",
      "|           Explosion|\n",
      "|        Vehicle Fire|\n",
      "|               Other|\n",
      "|        Outside Fire|\n",
      "|   Traffic Collision|\n",
      "|Gas Leak (Natural...|\n",
      "|        Water Rescue|\n",
      "|   Electrical Hazard|\n",
      "|Industrial Accidents|\n",
      "|    Medical Incident|\n",
      "|Smoke Investigati...|\n",
      "|Train / Rail Inci...|\n",
      "+--------------------+\n",
      "\n"
     ]
    }
   ],
   "source": [
    "#if we want to give an alias to the columns we are selecting, we must slice the df\n",
    "q2_df = sf_fire_calls_df.where(\"call_type is not null\")\\\n",
    "                        .select(sf_fire_calls_df[\"call_type\"].alias(\"disctinct_call_type\"))\\\n",
    "                        .distinct()\n",
    "\n",
    "q2_df.show()"
   ]
  },
  {
   "cell_type": "markdown",
   "metadata": {},
   "source": [
    "Q3. What were the most common call types?"
   ]
  },
  {
   "cell_type": "code",
   "execution_count": 8,
   "metadata": {},
   "outputs": [
    {
     "name": "stdout",
     "output_type": "stream",
     "text": [
      "+--------------------+----------------+\n",
      "|           call_type|n#_of_call_types|\n",
      "+--------------------+----------------+\n",
      "|    Medical Incident|             600|\n",
      "|Structure Fire / ...|             147|\n",
      "|              Alarms|             112|\n",
      "|   Traffic Collision|              72|\n",
      "|Citizen Assist / ...|              18|\n",
      "|               Other|              13|\n",
      "|        Vehicle Fire|               8|\n",
      "|Odor (Strange / U...|               7|\n",
      "|Gas Leak (Natural...|               6|\n",
      "|        Outside Fire|               4|\n",
      "|Smoke Investigati...|               4|\n",
      "|        Water Rescue|               2|\n",
      "|   Electrical Hazard|               2|\n",
      "|Elevator / Escala...|               1|\n",
      "|           Explosion|               1|\n",
      "|      Administrative|               1|\n",
      "|Industrial Accidents|               1|\n",
      "|Train / Rail Inci...|               1|\n",
      "+--------------------+----------------+\n",
      "\n"
     ]
    }
   ],
   "source": [
    "q3_df = sf_fire_calls_df.select(\"call_type\")\\\n",
    "                        .where(\"call_type is not null\")\\\n",
    "                        .groupBy(\"call_type\").count().withColumnRenamed(\"count\", \"n#_of_call_types\")\\\n",
    "                        .orderBy(\"count\", ascending=False)\n",
    "\n",
    "q3_df.show()"
   ]
  },
  {
   "cell_type": "markdown",
   "metadata": {
    "vscode": {
     "languageId": "bat"
    }
   },
   "source": [
    "Q4. What zipcodes accounted for most common calls ?"
   ]
  },
  {
   "cell_type": "code",
   "execution_count": 11,
   "metadata": {},
   "outputs": [
    {
     "name": "stdout",
     "output_type": "stream",
     "text": [
      "+-------------------+--------------+\n",
      "|zipcode_of_incident|n#_of_zipcodes|\n",
      "+-------------------+--------------+\n",
      "|              94103|           120|\n",
      "|              94102|           108|\n",
      "|              94109|            95|\n",
      "|              94110|            93|\n",
      "|              94124|            53|\n",
      "|              94107|            49|\n",
      "|              94112|            45|\n",
      "|              94133|            39|\n",
      "|              94115|            37|\n",
      "|              94122|            37|\n",
      "|              94118|            33|\n",
      "|              94134|            31|\n",
      "|              94121|            29|\n",
      "|              94132|            28|\n",
      "|              94117|            26|\n",
      "|              94114|            25|\n",
      "|              94116|            24|\n",
      "|              94108|            24|\n",
      "|              94131|            24|\n",
      "|              94105|            21|\n",
      "+-------------------+--------------+\n",
      "only showing top 20 rows\n",
      "\n"
     ]
    }
   ],
   "source": [
    "q4_df = sf_fire_calls_df.select(\"zipcode_of_incident\")\\\n",
    "                        .where(\"zipcode_of_incident is not null\")\\\n",
    "                        .groupBy(\"zipcode_of_incident\").count().withColumnRenamed(\"count\",\"n#_of_zipcodes\")\\\n",
    "                        .orderBy(\"count\", ascending = False)\n",
    "\n",
    "q4_df.show()"
   ]
  },
  {
   "cell_type": "markdown",
   "metadata": {},
   "source": [
    "Q5. What San Francisco neighborhoods are in zip codes 94102 and 94103?"
   ]
  },
  {
   "cell_type": "code",
   "execution_count": 13,
   "metadata": {},
   "outputs": [
    {
     "name": "stdout",
     "output_type": "stream",
     "text": [
      "+-------------------+---------------------------------+\n",
      "|zipcode_of_incident|neighborhoods_analysis_boundaries|\n",
      "+-------------------+---------------------------------+\n",
      "|              94102|                     Hayes Valley|\n",
      "|              94102|                       Tenderloin|\n",
      "|              94103|             Financial Distric...|\n",
      "|              94102|                       Tenderloin|\n",
      "|              94103|                  South of Market|\n",
      "|              94103|                  South of Market|\n",
      "|              94102|                 Western Addition|\n",
      "|              94103|                  South of Market|\n",
      "|              94102|                       Tenderloin|\n",
      "|              94102|                     Hayes Valley|\n",
      "|              94103|                          Mission|\n",
      "|              94102|                     Hayes Valley|\n",
      "|              94103|                  South of Market|\n",
      "|              94103|                  South of Market|\n",
      "|              94102|                       Tenderloin|\n",
      "|              94103|                          Mission|\n",
      "|              94103|                          Mission|\n",
      "|              94103|                  South of Market|\n",
      "|              94103|                  South of Market|\n",
      "|              94103|                  South of Market|\n",
      "+-------------------+---------------------------------+\n",
      "only showing top 20 rows\n",
      "\n"
     ]
    }
   ],
   "source": [
    "q5_df = sf_fire_calls_df.select(\"zipcode_of_incident\",\"neighborhoods_analysis_boundaries\")\\\n",
    "                        .where(\"zipcode_of_incident in (94102,94103)\")\n",
    "\n",
    "q5_df.show()"
   ]
  }
 ],
 "metadata": {
  "kernelspec": {
   "display_name": "dataenv",
   "language": "python",
   "name": "python3"
  },
  "language_info": {
   "codemirror_mode": {
    "name": "ipython",
    "version": 3
   },
   "file_extension": ".py",
   "mimetype": "text/x-python",
   "name": "python",
   "nbconvert_exporter": "python",
   "pygments_lexer": "ipython3",
   "version": "3.10.13"
  }
 },
 "nbformat": 4,
 "nbformat_minor": 2
}
