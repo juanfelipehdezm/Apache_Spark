{
 "cells": [
  {
   "cell_type": "code",
   "execution_count": 1,
   "metadata": {},
   "outputs": [],
   "source": [
    "from pyspark.sql.session import SparkSession\n",
    "from pyspark.sql.context import SQLContext\n",
    "\n",
    "from pyspark.sql.types import StringType\n",
    "\n",
    "import warnings\n",
    "warnings.filterwarnings(\"ignore\")"
   ]
  },
  {
   "cell_type": "code",
   "execution_count": 2,
   "metadata": {},
   "outputs": [],
   "source": [
    "spark = SparkSession.builder.appName(\"dataframe_transformations\").getOrCreate()\n",
    "\n",
    "sqlcontext = SQLContext(spark)"
   ]
  },
  {
   "cell_type": "code",
   "execution_count": 3,
   "metadata": {},
   "outputs": [],
   "source": [
    "sf_fire_calls_df = spark.read.csv(\"../data/fire_department_calls.csv\", header=True, inferSchema=True)"
   ]
  },
  {
   "cell_type": "code",
   "execution_count": 4,
   "metadata": {},
   "outputs": [
    {
     "name": "stdout",
     "output_type": "stream",
     "text": [
      "+-----------+-------+---------------+-----------------+-------------------+-------------------+-------------------+-------------------+-------------------+-------------------+-------------------+-------------------+-------------------+----------------------+-------------------+--------------------+----+-------------------+---------+------------+----+-----------------+--------+--------------+--------+---------------+----------------+---------+------------------------------+------------------------+-------------------+---------------------------------+-------------+--------------------+-------------------+-------------------+-------------------------+\n",
      "|call_number|unit_id|incident_number|        call_type|          call_date|         watch_date|      received_dttm|         entry_dttm|      dispatch_dttm|      response_dttm|      on_scene_dttm|     transport_dttm|      hospital_dttm|call_final_disposition|     available_dttm|             address|city|zipcode_of_incident|battalion|station_area| box|original_priority|priority|final_priority|als_unit|call_type_group|number_of_alarms|unit_type|unit_sequence_in_call_dispatch|fire_prevention_district|supervisor_district|neighborhoods_analysis_boundaries|        rowid|       case_location|         data_as_of|     data_loaded_at|computed_region_ajp5_b2md|\n",
      "+-----------+-------+---------------+-----------------+-------------------+-------------------+-------------------+-------------------+-------------------+-------------------+-------------------+-------------------+-------------------+----------------------+-------------------+--------------------+----+-------------------+---------+------------+----+-----------------+--------+--------------+--------+---------------+----------------+---------+------------------------------+------------------------+-------------------+---------------------------------+-------------+--------------------+-------------------+-------------------+-------------------------+\n",
      "|   63240270|    M09|        6091528| Medical Incident|2006-11-20 00:00:00|2006-11-20 00:00:00|2006-11-20 16:07:27|2006-11-20 16:08:24|2006-11-20 16:08:43|2006-11-20 16:10:25|2006-11-20 16:13:40|2006-11-20 16:30:53|2006-11-20 16:41:49|      Code 2 Transport|2006-11-20 17:04:35|WILLS ST/CATALINA...|  SF|              94124|      B10|          25|6556|                3|       3|             3|    true|           null|               1|    MEDIC|                             2|                      10|                 10|             Bayview Hunters P...|063240270-M09|POINT (-122.37942...|2024-02-05 03:27:52|2024-02-05 10:56:25|                        1|\n",
      "|   63270017|    E05|        6092168| Medical Incident|2006-11-23 00:00:00|2006-11-22 00:00:00|2006-11-23 01:50:47|2006-11-23 01:53:04|2006-11-23 01:53:35|2006-11-23 01:55:31|2006-11-23 01:56:19|               null|               null|                 Other|2006-11-23 02:15:10|MCALLISTER ST/FIL...|  SF|              94115|      B05|           5|3534|                3|       3|             3|    true|           null|               1|   ENGINE|                             1|                       5|                  5|                 Western Addition|063270017-E05|POINT (-122.43176...|2024-02-05 03:27:52|2024-02-05 10:56:25|                       39|\n",
      "|   63250105|    E34|        6091702| Medical Incident|2006-11-21 00:00:00|2006-11-21 00:00:00|2006-11-21 09:27:25|2006-11-21 09:28:47|2006-11-21 09:29:32|2006-11-21 09:31:23|2006-11-21 09:32:46|               null|               null|                 Other|2006-11-21 09:42:44|    35TH AVE/ANZA ST|  SF|              94121|      B07|          34|7251|                3|       3|             3|   false|           null|               1|   ENGINE|                             2|                       7|                  1|                   Outer Richmond|063250105-E34|POINT (-122.49531...|2024-02-05 03:27:52|2024-02-05 10:56:25|                       29|\n",
      "|   63190269|     95|        6090144|Traffic Collision|2006-11-15 00:00:00|2006-11-15 00:00:00|2006-11-15 16:10:59|2006-11-15 16:10:59|2006-11-15 16:11:22|2006-11-15 16:12:59|2006-11-15 16:20:52|               null|               null|              No Merit|2006-11-15 16:26:58|FILLMORE ST/HAIGH...|  SF|              94117|      B05|           6|3526|                2|       2|             2|    true|           null|               1|    MEDIC|                             2|                       2|                  5|                     Hayes Valley| 063190269-95|POINT (-122.43043...|2024-02-05 03:27:52|2024-02-05 10:56:25|                        9|\n",
      "|   63210301|    E42|        6090712| Medical Incident|2006-11-17 00:00:00|2006-11-17 00:00:00|2006-11-17 19:47:34|2006-11-17 19:50:40|2006-11-17 19:50:50|2006-11-17 19:51:24|2006-11-17 19:53:35|               null|               null|                 Other|2006-11-17 19:56:22|PERALTA AVE/CORTL...|  SF|              94110|      B10|          42|6374|                3|       3|             3|    true|           null|               1|   ENGINE|                             1|                      10|                  9|                   Bernal Heights|063210301-E42|POINT (-122.40888...|2024-02-05 03:27:52|2024-02-05 10:56:25|                        2|\n",
      "+-----------+-------+---------------+-----------------+-------------------+-------------------+-------------------+-------------------+-------------------+-------------------+-------------------+-------------------+-------------------+----------------------+-------------------+--------------------+----+-------------------+---------+------------+----+-----------------+--------+--------------+--------+---------------+----------------+---------+------------------------------+------------------------+-------------------+---------------------------------+-------------+--------------------+-------------------+-------------------+-------------------------+\n",
      "only showing top 5 rows\n",
      "\n"
     ]
    }
   ],
   "source": [
    "sf_fire_calls_df.show(5)"
   ]
  },
  {
   "cell_type": "code",
   "execution_count": 5,
   "metadata": {},
   "outputs": [],
   "source": [
    "#renaiming a column \n",
    "renamed_cols_sf_fire_calls_df = sf_fire_calls_df.withColumnRenamed(\"call_number\", \"Call_number\")\\\n",
    "                                                .withColumnRenamed(\"unit_id\",\"Unit_id\")"
   ]
  },
  {
   "cell_type": "code",
   "execution_count": 6,
   "metadata": {},
   "outputs": [
    {
     "name": "stdout",
     "output_type": "stream",
     "text": [
      "+-----------+-------+---------------+-----------------+-------------------+-------------------+-------------------+-------------------+-------------------+-------------------+-------------------+-------------------+-------------------+----------------------+-------------------+--------------------+----+-------------------+---------+------------+----+-----------------+--------+--------------+--------+---------------+----------------+---------+------------------------------+------------------------+-------------------+---------------------------------+-------------+--------------------+-------------------+-------------------+-------------------------+\n",
      "|Call_number|Unit_id|incident_number|        call_type|          call_date|         watch_date|      received_dttm|         entry_dttm|      dispatch_dttm|      response_dttm|      on_scene_dttm|     transport_dttm|      hospital_dttm|call_final_disposition|     available_dttm|             address|city|zipcode_of_incident|battalion|station_area| box|original_priority|priority|final_priority|als_unit|call_type_group|number_of_alarms|unit_type|unit_sequence_in_call_dispatch|fire_prevention_district|supervisor_district|neighborhoods_analysis_boundaries|        rowid|       case_location|         data_as_of|     data_loaded_at|computed_region_ajp5_b2md|\n",
      "+-----------+-------+---------------+-----------------+-------------------+-------------------+-------------------+-------------------+-------------------+-------------------+-------------------+-------------------+-------------------+----------------------+-------------------+--------------------+----+-------------------+---------+------------+----+-----------------+--------+--------------+--------+---------------+----------------+---------+------------------------------+------------------------+-------------------+---------------------------------+-------------+--------------------+-------------------+-------------------+-------------------------+\n",
      "|   63240270|    M09|        6091528| Medical Incident|2006-11-20 00:00:00|2006-11-20 00:00:00|2006-11-20 16:07:27|2006-11-20 16:08:24|2006-11-20 16:08:43|2006-11-20 16:10:25|2006-11-20 16:13:40|2006-11-20 16:30:53|2006-11-20 16:41:49|      Code 2 Transport|2006-11-20 17:04:35|WILLS ST/CATALINA...|  SF|              94124|      B10|          25|6556|                3|       3|             3|    true|           null|               1|    MEDIC|                             2|                      10|                 10|             Bayview Hunters P...|063240270-M09|POINT (-122.37942...|2024-02-05 03:27:52|2024-02-05 10:56:25|                        1|\n",
      "|   63270017|    E05|        6092168| Medical Incident|2006-11-23 00:00:00|2006-11-22 00:00:00|2006-11-23 01:50:47|2006-11-23 01:53:04|2006-11-23 01:53:35|2006-11-23 01:55:31|2006-11-23 01:56:19|               null|               null|                 Other|2006-11-23 02:15:10|MCALLISTER ST/FIL...|  SF|              94115|      B05|           5|3534|                3|       3|             3|    true|           null|               1|   ENGINE|                             1|                       5|                  5|                 Western Addition|063270017-E05|POINT (-122.43176...|2024-02-05 03:27:52|2024-02-05 10:56:25|                       39|\n",
      "|   63250105|    E34|        6091702| Medical Incident|2006-11-21 00:00:00|2006-11-21 00:00:00|2006-11-21 09:27:25|2006-11-21 09:28:47|2006-11-21 09:29:32|2006-11-21 09:31:23|2006-11-21 09:32:46|               null|               null|                 Other|2006-11-21 09:42:44|    35TH AVE/ANZA ST|  SF|              94121|      B07|          34|7251|                3|       3|             3|   false|           null|               1|   ENGINE|                             2|                       7|                  1|                   Outer Richmond|063250105-E34|POINT (-122.49531...|2024-02-05 03:27:52|2024-02-05 10:56:25|                       29|\n",
      "|   63190269|     95|        6090144|Traffic Collision|2006-11-15 00:00:00|2006-11-15 00:00:00|2006-11-15 16:10:59|2006-11-15 16:10:59|2006-11-15 16:11:22|2006-11-15 16:12:59|2006-11-15 16:20:52|               null|               null|              No Merit|2006-11-15 16:26:58|FILLMORE ST/HAIGH...|  SF|              94117|      B05|           6|3526|                2|       2|             2|    true|           null|               1|    MEDIC|                             2|                       2|                  5|                     Hayes Valley| 063190269-95|POINT (-122.43043...|2024-02-05 03:27:52|2024-02-05 10:56:25|                        9|\n",
      "|   63210301|    E42|        6090712| Medical Incident|2006-11-17 00:00:00|2006-11-17 00:00:00|2006-11-17 19:47:34|2006-11-17 19:50:40|2006-11-17 19:50:50|2006-11-17 19:51:24|2006-11-17 19:53:35|               null|               null|                 Other|2006-11-17 19:56:22|PERALTA AVE/CORTL...|  SF|              94110|      B10|          42|6374|                3|       3|             3|    true|           null|               1|   ENGINE|                             1|                      10|                  9|                   Bernal Heights|063210301-E42|POINT (-122.40888...|2024-02-05 03:27:52|2024-02-05 10:56:25|                        2|\n",
      "+-----------+-------+---------------+-----------------+-------------------+-------------------+-------------------+-------------------+-------------------+-------------------+-------------------+-------------------+-------------------+----------------------+-------------------+--------------------+----+-------------------+---------+------------+----+-----------------+--------+--------------+--------+---------------+----------------+---------+------------------------------+------------------------+-------------------+---------------------------------+-------------+--------------------+-------------------+-------------------+-------------------------+\n",
      "only showing top 5 rows\n",
      "\n"
     ]
    }
   ],
   "source": [
    "renamed_cols_sf_fire_calls_df.show(5)"
   ]
  },
  {
   "cell_type": "code",
   "execution_count": 7,
   "metadata": {},
   "outputs": [
    {
     "name": "stdout",
     "output_type": "stream",
     "text": [
      "root\n",
      " |-- Call_number: integer (nullable = true)\n",
      " |-- Unit_id: string (nullable = true)\n",
      " |-- incident_number: integer (nullable = true)\n",
      " |-- call_type: string (nullable = true)\n",
      " |-- call_date: timestamp (nullable = true)\n",
      " |-- watch_date: timestamp (nullable = true)\n",
      " |-- received_dttm: timestamp (nullable = true)\n",
      " |-- entry_dttm: timestamp (nullable = true)\n",
      " |-- dispatch_dttm: timestamp (nullable = true)\n",
      " |-- response_dttm: timestamp (nullable = true)\n",
      " |-- on_scene_dttm: timestamp (nullable = true)\n",
      " |-- transport_dttm: timestamp (nullable = true)\n",
      " |-- hospital_dttm: timestamp (nullable = true)\n",
      " |-- call_final_disposition: string (nullable = true)\n",
      " |-- available_dttm: timestamp (nullable = true)\n",
      " |-- address: string (nullable = true)\n",
      " |-- city: string (nullable = true)\n",
      " |-- zipcode_of_incident: integer (nullable = true)\n",
      " |-- battalion: string (nullable = true)\n",
      " |-- station_area: integer (nullable = true)\n",
      " |-- box: integer (nullable = true)\n",
      " |-- original_priority: string (nullable = true)\n",
      " |-- priority: string (nullable = true)\n",
      " |-- final_priority: integer (nullable = true)\n",
      " |-- als_unit: boolean (nullable = true)\n",
      " |-- call_type_group: string (nullable = true)\n",
      " |-- number_of_alarms: integer (nullable = true)\n",
      " |-- unit_type: string (nullable = true)\n",
      " |-- unit_sequence_in_call_dispatch: integer (nullable = true)\n",
      " |-- fire_prevention_district: string (nullable = true)\n",
      " |-- supervisor_district: string (nullable = true)\n",
      " |-- neighborhoods_analysis_boundaries: string (nullable = true)\n",
      " |-- rowid: string (nullable = true)\n",
      " |-- case_location: string (nullable = true)\n",
      " |-- data_as_of: timestamp (nullable = true)\n",
      " |-- data_loaded_at: timestamp (nullable = true)\n",
      " |-- computed_region_ajp5_b2md: integer (nullable = true)\n",
      "\n"
     ]
    }
   ],
   "source": [
    "renamed_cols_sf_fire_calls_df.printSchema()"
   ]
  },
  {
   "cell_type": "code",
   "execution_count": 9,
   "metadata": {},
   "outputs": [],
   "source": [
    "#changing a column data type\n",
    "#in this case I passed from int to string\n",
    "fire_df = renamed_cols_sf_fire_calls_df.withColumn(\"box\", renamed_cols_sf_fire_calls_df[\"box\"].cast(StringType()))"
   ]
  },
  {
   "cell_type": "code",
   "execution_count": 12,
   "metadata": {},
   "outputs": [
    {
     "data": {
      "text/plain": [
       "StructField('box', StringType(), True)"
      ]
     },
     "execution_count": 12,
     "metadata": {},
     "output_type": "execute_result"
    }
   ],
   "source": [
    "fire_df.schema[\"box\"]"
   ]
  }
 ],
 "metadata": {
  "kernelspec": {
   "display_name": "dataenv",
   "language": "python",
   "name": "python3"
  },
  "language_info": {
   "codemirror_mode": {
    "name": "ipython",
    "version": 3
   },
   "file_extension": ".py",
   "mimetype": "text/x-python",
   "name": "python",
   "nbconvert_exporter": "python",
   "pygments_lexer": "ipython3",
   "version": "3.10.13"
  }
 },
 "nbformat": 4,
 "nbformat_minor": 2
}
