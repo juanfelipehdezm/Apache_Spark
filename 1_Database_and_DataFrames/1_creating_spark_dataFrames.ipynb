{
 "cells": [
  {
   "cell_type": "code",
   "execution_count": 1,
   "metadata": {},
   "outputs": [],
   "source": [
    "from pyspark.sql.session import SparkSession\n",
    "from pyspark.sql.context import SQLContext\n",
    "import requests\n",
    "import csv"
   ]
  },
  {
   "cell_type": "code",
   "execution_count": 2,
   "metadata": {},
   "outputs": [],
   "source": [
    "#API endpoint to get the information we required\n",
    "url = \"https://data.sfgov.org/resource/nuek-vuh3.csv\"\n",
    "r = requests.get(url)\n",
    "\n",
    "if r.status_code == 200:\n",
    "    with open(\"../data/fire_department_calls.csv\", \"w\") as csvfile:\n",
    "        csv_writer = csv.writer(csvfile)\n",
    "        headers = r.text.splitlines()[0].split(',')\n",
    "        csv_writer.writerow(headers)\n",
    "\n",
    "        for row in r.text.splitlines()[1:]:  # Skip the header row\n",
    "            data_row = row.split(',')\n",
    "            csv_writer.writerow(data_row)"
   ]
  },
  {
   "cell_type": "code",
   "execution_count": 3,
   "metadata": {},
   "outputs": [
    {
     "name": "stderr",
     "output_type": "stream",
     "text": [
      "c:\\Users\\juanf\\anaconda3\\envs\\dataenv\\lib\\site-packages\\pyspark\\sql\\context.py:112: FutureWarning: Deprecated in 3.0.0. Use SparkSession.builder.getOrCreate() instead.\n",
      "  warnings.warn(\n"
     ]
    }
   ],
   "source": [
    "#spark session\n",
    "spark = SparkSession.builder.appName(\"fire_calls\").getOrCreate()\n",
    "#sql context\n",
    "sqlcontext = SQLContext(spark)"
   ]
  },
  {
   "cell_type": "code",
   "execution_count": 4,
   "metadata": {},
   "outputs": [],
   "source": [
    "#reading a csv file.\n",
    "sf_fire_calls_df = spark.read.csv(\"../data/fire_department_calls.csv\", header=True, inferSchema=True)\n"
   ]
  },
  {
   "cell_type": "code",
   "execution_count": 5,
   "metadata": {},
   "outputs": [
    {
     "name": "stdout",
     "output_type": "stream",
     "text": [
      "root\n",
      " |-- \"\"\"call_number\"\"\": string (nullable = true)\n",
      " |-- \"\"\"unit_id\"\"\": string (nullable = true)\n",
      " |-- \"\"\"incident_number\"\"\": string (nullable = true)\n",
      " |-- \"\"\"call_type\"\"\": string (nullable = true)\n",
      " |-- \"\"\"call_date\"\"\": string (nullable = true)\n",
      " |-- \"\"\"watch_date\"\"\": string (nullable = true)\n",
      " |-- \"\"\"received_dttm\"\"\": string (nullable = true)\n",
      " |-- \"\"\"entry_dttm\"\"\": string (nullable = true)\n",
      " |-- \"\"\"dispatch_dttm\"\"\": string (nullable = true)\n",
      " |-- \"\"\"response_dttm\"\"\": string (nullable = true)\n",
      " |-- \"\"\"on_scene_dttm\"\"\": string (nullable = true)\n",
      " |-- \"\"\"transport_dttm\"\"\": string (nullable = true)\n",
      " |-- \"\"\"hospital_dttm\"\"\": string (nullable = true)\n",
      " |-- \"\"\"call_final_disposition\"\"\": string (nullable = true)\n",
      " |-- \"\"\"available_dttm\"\"\": string (nullable = true)\n",
      " |-- \"\"\"address\"\"\": string (nullable = true)\n",
      " |-- \"\"\"city\"\"\": string (nullable = true)\n",
      " |-- \"\"\"zipcode_of_incident\"\"\": string (nullable = true)\n",
      " |-- \"\"\"battalion\"\"\": string (nullable = true)\n",
      " |-- \"\"\"station_area\"\"\": string (nullable = true)\n",
      " |-- \"\"\"box\"\"\": string (nullable = true)\n",
      " |-- \"\"\"original_priority\"\"\": string (nullable = true)\n",
      " |-- \"\"\"priority\"\"\": string (nullable = true)\n",
      " |-- \"\"\"final_priority\"\"\": string (nullable = true)\n",
      " |-- \"\"\"als_unit\"\"\": string (nullable = true)\n",
      " |-- \"\"\"call_type_group\"\"\": string (nullable = true)\n",
      " |-- \"\"\"number_of_alarms\"\"\": string (nullable = true)\n",
      " |-- \"\"\"unit_type\"\"\": string (nullable = true)\n",
      " |-- \"\"\"unit_sequence_in_call_dispatch\"\"\": string (nullable = true)\n",
      " |-- \"\"\"fire_prevention_district\"\"\": string (nullable = true)\n",
      " |-- \"\"\"supervisor_district\"\"\": string (nullable = true)\n",
      " |-- \"\"\"neighborhoods_analysis_boundaries\"\"\": string (nullable = true)\n",
      " |-- \"\"\"rowid\"\"\": string (nullable = true)\n",
      " |-- \"\"\"case_location\"\"\": string (nullable = true)\n",
      " |-- \"\"\"data_as_of\"\"\": string (nullable = true)\n",
      " |-- \"\"\"data_loaded_at\"\"\": string (nullable = true)\n",
      " |-- \"\"\":@computed_region_ajp5_b2md\"\"\": string (nullable = true)\n",
      "\n"
     ]
    }
   ],
   "source": [
    "sf_fire_calls_df.printSchema()"
   ]
  },
  {
   "cell_type": "code",
   "execution_count": 6,
   "metadata": {},
   "outputs": [],
   "source": [
    "#sf_fire_calls_df.show(10)"
   ]
  },
  {
   "cell_type": "markdown",
   "metadata": {},
   "source": [
    "We have to create a global-temporary view, which is similar to a table. I can run SQL expression on this view"
   ]
  },
  {
   "cell_type": "code",
   "execution_count": 7,
   "metadata": {},
   "outputs": [],
   "source": [
    "sf_fire_calls_df.createOrReplaceTempView(\"fire_service_calls_view\")"
   ]
  },
  {
   "cell_type": "code",
   "execution_count": 8,
   "metadata": {},
   "outputs": [],
   "source": [
    "query_1 = \"\"\"\n",
    "        SELECT * FROM fire_service_calls_view\n",
    "\"\"\""
   ]
  },
  {
   "cell_type": "code",
   "execution_count": 9,
   "metadata": {},
   "outputs": [],
   "source": [
    "#spark.sql(query_1).show()"
   ]
  }
 ],
 "metadata": {
  "kernelspec": {
   "display_name": "dataenv",
   "language": "python",
   "name": "python3"
  },
  "language_info": {
   "codemirror_mode": {
    "name": "ipython",
    "version": 3
   },
   "file_extension": ".py",
   "mimetype": "text/x-python",
   "name": "python",
   "nbconvert_exporter": "python",
   "pygments_lexer": "ipython3",
   "version": "3.10.13"
  }
 },
 "nbformat": 4,
 "nbformat_minor": 2
}
